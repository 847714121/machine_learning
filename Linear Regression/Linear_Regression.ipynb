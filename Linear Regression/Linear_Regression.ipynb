{
 "cells": [
  {
   "cell_type": "markdown",
   "metadata": {},
   "source": [
    "# Linear Regression\n",
    "这个 notebook 是线性回归的代码实现，提供梯度下降和 Normal Equation 两种方法进行模型的训练。在模型优化中，提供 batch gradient descent、mini-batch gradient descent 和 stochastic gradient descent 三种方法"
   ]
  },
  {
   "cell_type": "markdown",
   "metadata": {},
   "source": [
    "## 假设函数 $h$ 的实现\n",
    "输入 $X$ 是一个 $m$ 行 $n$ 列的矩阵，每一行是一个样本的 $n$ 个属性的参数。$\\boldsymbol \\theta$ 是我们待求的参数，是一个 $n$ 维向量，假设函数的计算公式如下：\n",
    "$$\n",
    "h(X) =  X  \\boldsymbol \\theta\n",
    "$$"
   ]
  },
  {
   "cell_type": "code",
   "execution_count": null,
   "metadata": {},
   "outputs": [],
   "source": [
    "import numpy as np"
   ]
  },
  {
   "cell_type": "code",
   "execution_count": null,
   "metadata": {},
   "outputs": [],
   "source": [
    "# 函数功能：计算假设函数的结果，公式如上\n",
    "#     输入：X (m, n) 是一个 m 行 n 列的矩阵，m 是样本个数，n 是 theta 的维度\n",
    "#           parameters 是一个 (n, 1) 的 n 维向量，其就是公式中的 theta\n",
    "#     输出：y (m, 1) 是一个 m 维的列向量，每一行是一个样本的输出\n",
    "def hypothese(X, parameters):\n",
    "    y = np.dot(X, parameters)\n",
    "    return y"
   ]
  },
  {
   "cell_type": "code",
   "execution_count": null,
   "metadata": {},
   "outputs": [],
   "source": [
    "# 测试代码\n",
    "X = np.array([[1,2,3], [4,5,6], [7,8,9]])\n",
    "parameters = np.array([[1],[2],[3]])\n",
    "y = hypothese(X, parameters)\n",
    "y"
   ]
  },
  {
   "cell_type": "code",
   "execution_count": null,
   "metadata": {},
   "outputs": [],
   "source": []
  }
 ],
 "metadata": {
  "kernelspec": {
   "display_name": "Python 3",
   "language": "python",
   "name": "python3"
  },
  "language_info": {
   "codemirror_mode": {
    "name": "ipython",
    "version": 3
   },
   "file_extension": ".py",
   "mimetype": "text/x-python",
   "name": "python",
   "nbconvert_exporter": "python",
   "pygments_lexer": "ipython3",
   "version": "3.8.5"
  }
 },
 "nbformat": 4,
 "nbformat_minor": 4
}
