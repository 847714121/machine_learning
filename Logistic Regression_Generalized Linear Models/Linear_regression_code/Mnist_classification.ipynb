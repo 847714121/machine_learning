{
 "cells": [
  {
   "cell_type": "markdown",
   "metadata": {},
   "source": [
    "# 加载 MNIST 数据集"
   ]
  },
  {
   "cell_type": "code",
   "execution_count": 1,
   "metadata": {},
   "outputs": [],
   "source": [
    "#加载所需的包\n",
    "import numpy as np\n",
    "from linear_model import load_mnist,label_transform"
   ]
  },
  {
   "cell_type": "code",
   "execution_count": 9,
   "metadata": {},
   "outputs": [
    {
     "name": "stdout",
     "output_type": "stream",
     "text": [
      "train data:  (784, 60000)\n",
      "train label: (10, 60000)\n",
      "test data:   (784, 10000)\n",
      "test label:  (10, 10000)\n"
     ]
    }
   ],
   "source": [
    "\"\"\"\n",
    "调用 load_mnist 函数加载训练集和测试集\n",
    "train_data:  (60000, 28, 28)\n",
    "train_label: (60000, 1)\n",
    "test_data:   (10000, 28, 28)\n",
    "test_label:  (10000, 1)\n",
    "\"\"\"\n",
    "train_data, train_label, test_data, test_label = load_mnist()   #加载数据\n",
    "train_data = train_data.reshape(train_data.shape[0],-1).T         #将训练集图片拉长成一个向量\n",
    "test_data = test_data.reshape(test_data.shape[0],-1).T            #将测试集图片拉长成一个向量\n",
    "train_label = label_transform(train_label, 10).T\n",
    "test_label = label_transform(test_label, 10).T\n",
    "\n",
    "print(\"train data:  \" + str(train_data.shape))\n",
    "print(\"train label: \" + str(train_label.shape))\n",
    "print(\"test data:   \" + str(test_data.shape))\n",
    "print(\"test label:  \" + str(test_label.shape))"
   ]
  },
  {
   "cell_type": "markdown",
   "metadata": {},
   "source": [
    "# Softmax Regression"
   ]
  },
  {
   "cell_type": "code",
   "execution_count": 7,
   "metadata": {},
   "outputs": [],
   "source": [
    "n, m = train_data.shape\n",
    "\n",
    "parameters = np.zeros((10, n))\n"
   ]
  },
  {
   "cell_type": "code",
   "execution_count": null,
   "metadata": {},
   "outputs": [],
   "source": []
  }
 ],
 "metadata": {
  "kernelspec": {
   "display_name": "Python 3",
   "language": "python",
   "name": "python3"
  },
  "language_info": {
   "codemirror_mode": {
    "name": "ipython",
    "version": 3
   },
   "file_extension": ".py",
   "mimetype": "text/x-python",
   "name": "python",
   "nbconvert_exporter": "python",
   "pygments_lexer": "ipython3",
   "version": "3.8.5"
  }
 },
 "nbformat": 4,
 "nbformat_minor": 4
}
