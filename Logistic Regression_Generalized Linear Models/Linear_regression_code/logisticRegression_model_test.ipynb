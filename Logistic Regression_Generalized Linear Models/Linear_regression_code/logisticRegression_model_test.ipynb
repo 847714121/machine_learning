{
 "cells": [
  {
   "cell_type": "markdown",
   "metadata": {},
   "source": [
    "# 加载数据集"
   ]
  },
  {
   "cell_type": "code",
   "execution_count": 1,
   "metadata": {},
   "outputs": [],
   "source": [
    "import numpy as np\n",
    "from linear_model import load_binary_dataset, LogisticRegressionModel"
   ]
  },
  {
   "cell_type": "code",
   "execution_count": 2,
   "metadata": {},
   "outputs": [
    {
     "name": "stdout",
     "output_type": "stream",
     "text": [
      "train data:  (48830, 510)\n",
      "train label: (48830, 1)\n",
      "test data:   (5426, 510)\n",
      "test label:  (5426, 1)\n"
     ]
    }
   ],
   "source": [
    "train_data, train_label, dev_data, dev_label = load_binary_dataset()\n",
    "\n",
    "print(\"train data:  \" + str(train_data.shape))\n",
    "print(\"train label: \" + str(train_label.shape))\n",
    "print(\"test data:   \" + str(dev_data.shape))\n",
    "print(\"test label:  \" + str(dev_label.shape))"
   ]
  },
  {
   "cell_type": "markdown",
   "metadata": {},
   "source": [
    "# 调用 LogisticRegression Model"
   ]
  },
  {
   "cell_type": "code",
   "execution_count": 3,
   "metadata": {},
   "outputs": [],
   "source": [
    "model = LogisticRegressionModel(train_data, train_label)"
   ]
  },
  {
   "cell_type": "code",
   "execution_count": 4,
   "metadata": {},
   "outputs": [
    {
     "name": "stdout",
     "output_type": "stream",
     "text": [
      "Train data shape: (48830, 511)\n",
      "learning_rate: 3e-05\n",
      "iteration: 10000\n",
      "trainFlag: False\n",
      "accuracy: 0\n",
      "regularizationFlag: False\n",
      "printLossFlag: True\n",
      "method: batch\n",
      "batchSize: 64\n"
     ]
    }
   ],
   "source": [
    "model.print_info()"
   ]
  },
  {
   "cell_type": "code",
   "execution_count": 14,
   "metadata": {},
   "outputs": [],
   "source": [
    "model.modify_variables(method = \"stochastic\", iteration = 10, recordTimes = 5, printLossFlag = False)"
   ]
  },
  {
   "cell_type": "code",
   "execution_count": 15,
   "metadata": {},
   "outputs": [
    {
     "name": "stdout",
     "output_type": "stream",
     "text": [
      "Train data shape: (48830, 511)\n",
      "learning_rate: 3e-05\n",
      "iteration: 10\n",
      "trainFlag: True\n",
      "accuracy: 0.8829612942862994\n",
      "regularizationFlag: False\n",
      "printLossFlag: False\n",
      "method: stochastic\n",
      "batchSize: 64\n"
     ]
    }
   ],
   "source": [
    "model.print_info()"
   ]
  },
  {
   "cell_type": "code",
   "execution_count": 16,
   "metadata": {},
   "outputs": [],
   "source": [
    "model.train()"
   ]
  },
  {
   "cell_type": "code",
   "execution_count": 17,
   "metadata": {},
   "outputs": [],
   "source": [
    "p = model.predict(dev_data)"
   ]
  },
  {
   "cell_type": "code",
   "execution_count": 18,
   "metadata": {},
   "outputs": [
    {
     "data": {
      "text/plain": [
       "0.875230372281607"
      ]
     },
     "execution_count": 18,
     "metadata": {},
     "output_type": "execute_result"
    }
   ],
   "source": [
    "acc = model._accuracy(p, dev_label)\n",
    "acc"
   ]
  },
  {
   "cell_type": "code",
   "execution_count": null,
   "metadata": {},
   "outputs": [],
   "source": []
  }
 ],
 "metadata": {
  "kernelspec": {
   "display_name": "Python 3",
   "language": "python",
   "name": "python3"
  },
  "language_info": {
   "codemirror_mode": {
    "name": "ipython",
    "version": 3
   },
   "file_extension": ".py",
   "mimetype": "text/x-python",
   "name": "python",
   "nbconvert_exporter": "python",
   "pygments_lexer": "ipython3",
   "version": "3.8.5"
  }
 },
 "nbformat": 4,
 "nbformat_minor": 4
}
